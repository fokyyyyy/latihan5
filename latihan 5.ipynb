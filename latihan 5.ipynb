{
 "cells": [
  {
   "cell_type": "code",
   "execution_count": null,
   "id": "9b4ad037",
   "metadata": {},
   "outputs": [
    {
     "name": "stdout",
     "output_type": "stream",
     "text": [
      "kalkulator persegi panjang\n",
      "\n",
      "masukan panjang :27\n"
     ]
    }
   ],
   "source": [
    "print('kalkulator persegi panjang\\n')\n",
    "\n",
    "panjang = input('masukan panjang :')\n",
    "lebar = input('masukan lebar :')\n",
    "\n",
    "print('luas =', int(panjang)*int(lebar))\n"
   ]
  },
  {
   "cell_type": "code",
   "execution_count": 4,
   "id": "df9b6052",
   "metadata": {},
   "outputs": [
    {
     "name": "stdout",
     "output_type": "stream",
     "text": [
      "andi**lala**foky\n"
     ]
    }
   ],
   "source": [
    "print('andi','lala', 'foky',\n",
    "      sep=('**'))"
   ]
  },
  {
   "cell_type": "code",
   "execution_count": 5,
   "id": "b93338b0",
   "metadata": {},
   "outputs": [
    {
     "name": "stdout",
     "output_type": "stream",
     "text": [
      "5 + 3 = 8\n",
      "5 + 3 = 8\n"
     ]
    }
   ],
   "source": [
    "a = 5\n",
    "b = 3\n",
    "\n",
    "print(a, '+', b, '=', a + b)\n",
    "print('{} + {} = {}'. format(a, b, a + b))"
   ]
  },
  {
   "cell_type": "code",
   "execution_count": 12,
   "id": "58c5dd88",
   "metadata": {},
   "outputs": [
    {
     "name": "stdout",
     "output_type": "stream",
     "text": [
      "nama saya mfauzi, dan hobi saya renang\n"
     ]
    }
   ],
   "source": [
    "nama='mfauzi'\n",
    "hobi='renang'\n",
    "\n",
    "print('nama saya {}, dan hobi saya {}'.format(nama, hobi))"
   ]
  },
  {
   "cell_type": "code",
   "execution_count": 1,
   "id": "aa4ed759",
   "metadata": {},
   "outputs": [
    {
     "name": "stdout",
     "output_type": "stream",
     "text": [
      "tempat tinggal sukabumi, saya dari kelas TI22E\n"
     ]
    }
   ],
   "source": [
    "print('tempat tinggal {tgl}, saya dari kelas {kelas}'\n",
    "      .format(tgl='sukabumi', kelas='TI22E'))"
   ]
  },
  {
   "cell_type": "code",
   "execution_count": 2,
   "id": "6d18d72a",
   "metadata": {},
   "outputs": [
    {
     "name": "stdout",
     "output_type": "stream",
     "text": [
      "untuk SD\n"
     ]
    }
   ],
   "source": [
    "judul='pelajaran mtk untuk SD'\n",
    "\n",
    "print(judul[-8:])"
   ]
  },
  {
   "cell_type": "code",
   "execution_count": 5,
   "id": "394830b5",
   "metadata": {},
   "outputs": [
    {
     "name": "stdout",
     "output_type": "stream",
     "text": [
      "masukan nomor 1 :12\n",
      "masukan nomor 2 :3\n",
      "hasil dari (-) : 9\n",
      "hasil (+) : 15\n",
      "hasil (/) : 4.0\n",
      "hasil (*) : 36\n"
     ]
    }
   ],
   "source": [
    "nomor1 = input('masukan nomor 1 :')\n",
    "nomor2 = input('masukan nomor 2 :')\n",
    "\n",
    "print('hasil dari (-) :', int(nomor1)-int(nomor2))\n",
    "print('hasil (+) :', int(nomor1)+int(nomor2))\n",
    "print('hasil (/) :', int(nomor1)/int(nomor2))\n",
    "print('hasil (*) :', int(nomor1)*int(nomor2))"
   ]
  },
  {
   "cell_type": "code",
   "execution_count": 6,
   "id": "cddb40a3",
   "metadata": {},
   "outputs": [
    {
     "name": "stdout",
     "output_type": "stream",
     "text": [
      "Total cicilannya untuk berapa tahun :7\n",
      "berapa tahun cicilan sudah dibayar :2\n",
      "Cicilan yang anda harus bayar 5.0 tahun lagi atau 1825.0 hari lagi\n"
     ]
    }
   ],
   "source": [
    "# 2, buat program menghitung jumlah cicilan (outputnya : berapa hari, dan berapa tahun untuk cicilannya)\n",
    "\n",
    "total = float (input(\"Total cicilannya untuk berapa tahun :\"))\n",
    "cicilan_lunas = float(input(\"berapa tahun cicilan sudah dibayar :\"))\n",
    "hari = (total-cicilan_lunas)*365\n",
    "\n",
    "#1 tahun = 360 hari\n",
    "print(f\"Cicilan yang anda harus bayar {total-cicilan_lunas} tahun lagi atau {hari} hari lagi\")"
   ]
  },
  {
   "cell_type": "code",
   "execution_count": null,
   "id": "8590fdf7",
   "metadata": {},
   "outputs": [],
   "source": []
  }
 ],
 "metadata": {
  "kernelspec": {
   "display_name": "Python 3 (ipykernel)",
   "language": "python",
   "name": "python3"
  },
  "language_info": {
   "codemirror_mode": {
    "name": "ipython",
    "version": 3
   },
   "file_extension": ".py",
   "mimetype": "text/x-python",
   "name": "python",
   "nbconvert_exporter": "python",
   "pygments_lexer": "ipython3",
   "version": "3.9.12"
  }
 },
 "nbformat": 4,
 "nbformat_minor": 5
}
